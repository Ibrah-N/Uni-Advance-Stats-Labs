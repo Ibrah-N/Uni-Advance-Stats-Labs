{
  "nbformat": 4,
  "nbformat_minor": 0,
  "metadata": {
    "colab": {
      "provenance": [],
      "authorship_tag": "ABX9TyMJH+u23mkdzIlwRJBS4/2S",
      "include_colab_link": true
    },
    "kernelspec": {
      "name": "ir",
      "display_name": "R"
    },
    "language_info": {
      "name": "R"
    }
  },
  "cells": [
    {
      "cell_type": "markdown",
      "metadata": {
        "id": "view-in-github",
        "colab_type": "text"
      },
      "source": [
        "<a href=\"https://colab.research.google.com/github/Ibrah-N/Uni-Advance-Stats-Labs/blob/main/Frequency_Distribution.ipynb\" target=\"_parent\"><img src=\"https://colab.research.google.com/assets/colab-badge.svg\" alt=\"Open In Colab\"/></a>"
      ]
    },
    {
      "cell_type": "markdown",
      "source": [
        "## Steps\n",
        "- summary\n",
        "- Range\n",
        "- length\n",
        "- k\n",
        "- h\n",
        "- xint\n",
        "- x_cut\n",
        "- x_freq\n",
        "- cbind\n",
        "- barplot\n"
      ],
      "metadata": {
        "id": "md0bkrHNDE1i"
      }
    },
    {
      "cell_type": "code",
      "source": [
        "# Insert Data\n",
        "data(AirPassengers)\n",
        "AirPassengers"
      ],
      "metadata": {
        "colab": {
          "base_uri": "https://localhost:8080/",
          "height": 443
        },
        "id": "A-mxg9ddBZ17",
        "outputId": "5ab54d83-6449-4293-a93e-0c6b22843f27"
      },
      "execution_count": 78,
      "outputs": [
        {
          "output_type": "display_data",
          "data": {
            "text/html": [
              "<table class=\"dataframe\">\n",
              "<caption>A Time Series: 12 × 12</caption>\n",
              "<thead>\n",
              "\t<tr><th></th><th scope=col>Jan</th><th scope=col>Feb</th><th scope=col>Mar</th><th scope=col>Apr</th><th scope=col>May</th><th scope=col>Jun</th><th scope=col>Jul</th><th scope=col>Aug</th><th scope=col>Sep</th><th scope=col>Oct</th><th scope=col>Nov</th><th scope=col>Dec</th></tr>\n",
              "</thead>\n",
              "<tbody>\n",
              "\t<tr><th scope=row>1949</th><td>112</td><td>118</td><td>132</td><td>129</td><td>121</td><td>135</td><td>148</td><td>148</td><td>136</td><td>119</td><td>104</td><td>118</td></tr>\n",
              "\t<tr><th scope=row>1950</th><td>115</td><td>126</td><td>141</td><td>135</td><td>125</td><td>149</td><td>170</td><td>170</td><td>158</td><td>133</td><td>114</td><td>140</td></tr>\n",
              "\t<tr><th scope=row>1951</th><td>145</td><td>150</td><td>178</td><td>163</td><td>172</td><td>178</td><td>199</td><td>199</td><td>184</td><td>162</td><td>146</td><td>166</td></tr>\n",
              "\t<tr><th scope=row>1952</th><td>171</td><td>180</td><td>193</td><td>181</td><td>183</td><td>218</td><td>230</td><td>242</td><td>209</td><td>191</td><td>172</td><td>194</td></tr>\n",
              "\t<tr><th scope=row>1953</th><td>196</td><td>196</td><td>236</td><td>235</td><td>229</td><td>243</td><td>264</td><td>272</td><td>237</td><td>211</td><td>180</td><td>201</td></tr>\n",
              "\t<tr><th scope=row>1954</th><td>204</td><td>188</td><td>235</td><td>227</td><td>234</td><td>264</td><td>302</td><td>293</td><td>259</td><td>229</td><td>203</td><td>229</td></tr>\n",
              "\t<tr><th scope=row>1955</th><td>242</td><td>233</td><td>267</td><td>269</td><td>270</td><td>315</td><td>364</td><td>347</td><td>312</td><td>274</td><td>237</td><td>278</td></tr>\n",
              "\t<tr><th scope=row>1956</th><td>284</td><td>277</td><td>317</td><td>313</td><td>318</td><td>374</td><td>413</td><td>405</td><td>355</td><td>306</td><td>271</td><td>306</td></tr>\n",
              "\t<tr><th scope=row>1957</th><td>315</td><td>301</td><td>356</td><td>348</td><td>355</td><td>422</td><td>465</td><td>467</td><td>404</td><td>347</td><td>305</td><td>336</td></tr>\n",
              "\t<tr><th scope=row>1958</th><td>340</td><td>318</td><td>362</td><td>348</td><td>363</td><td>435</td><td>491</td><td>505</td><td>404</td><td>359</td><td>310</td><td>337</td></tr>\n",
              "\t<tr><th scope=row>1959</th><td>360</td><td>342</td><td>406</td><td>396</td><td>420</td><td>472</td><td>548</td><td>559</td><td>463</td><td>407</td><td>362</td><td>405</td></tr>\n",
              "\t<tr><th scope=row>1960</th><td>417</td><td>391</td><td>419</td><td>461</td><td>472</td><td>535</td><td>622</td><td>606</td><td>508</td><td>461</td><td>390</td><td>432</td></tr>\n",
              "</tbody>\n",
              "</table>\n"
            ],
            "text/markdown": "\nA Time Series: 12 × 12\n\n| <!--/--> | Jan | Feb | Mar | Apr | May | Jun | Jul | Aug | Sep | Oct | Nov | Dec |\n|---|---|---|---|---|---|---|---|---|---|---|---|---|\n| 1949 | 112 | 118 | 132 | 129 | 121 | 135 | 148 | 148 | 136 | 119 | 104 | 118 |\n| 1950 | 115 | 126 | 141 | 135 | 125 | 149 | 170 | 170 | 158 | 133 | 114 | 140 |\n| 1951 | 145 | 150 | 178 | 163 | 172 | 178 | 199 | 199 | 184 | 162 | 146 | 166 |\n| 1952 | 171 | 180 | 193 | 181 | 183 | 218 | 230 | 242 | 209 | 191 | 172 | 194 |\n| 1953 | 196 | 196 | 236 | 235 | 229 | 243 | 264 | 272 | 237 | 211 | 180 | 201 |\n| 1954 | 204 | 188 | 235 | 227 | 234 | 264 | 302 | 293 | 259 | 229 | 203 | 229 |\n| 1955 | 242 | 233 | 267 | 269 | 270 | 315 | 364 | 347 | 312 | 274 | 237 | 278 |\n| 1956 | 284 | 277 | 317 | 313 | 318 | 374 | 413 | 405 | 355 | 306 | 271 | 306 |\n| 1957 | 315 | 301 | 356 | 348 | 355 | 422 | 465 | 467 | 404 | 347 | 305 | 336 |\n| 1958 | 340 | 318 | 362 | 348 | 363 | 435 | 491 | 505 | 404 | 359 | 310 | 337 |\n| 1959 | 360 | 342 | 406 | 396 | 420 | 472 | 548 | 559 | 463 | 407 | 362 | 405 |\n| 1960 | 417 | 391 | 419 | 461 | 472 | 535 | 622 | 606 | 508 | 461 | 390 | 432 |\n\n",
            "text/latex": "A Time Series: 12 × 12\n\\begin{tabular}{r|llllllllllll}\n  & Jan & Feb & Mar & Apr & May & Jun & Jul & Aug & Sep & Oct & Nov & Dec\\\\\n\\hline\n\t1949 & 112 & 118 & 132 & 129 & 121 & 135 & 148 & 148 & 136 & 119 & 104 & 118\\\\\n\t1950 & 115 & 126 & 141 & 135 & 125 & 149 & 170 & 170 & 158 & 133 & 114 & 140\\\\\n\t1951 & 145 & 150 & 178 & 163 & 172 & 178 & 199 & 199 & 184 & 162 & 146 & 166\\\\\n\t1952 & 171 & 180 & 193 & 181 & 183 & 218 & 230 & 242 & 209 & 191 & 172 & 194\\\\\n\t1953 & 196 & 196 & 236 & 235 & 229 & 243 & 264 & 272 & 237 & 211 & 180 & 201\\\\\n\t1954 & 204 & 188 & 235 & 227 & 234 & 264 & 302 & 293 & 259 & 229 & 203 & 229\\\\\n\t1955 & 242 & 233 & 267 & 269 & 270 & 315 & 364 & 347 & 312 & 274 & 237 & 278\\\\\n\t1956 & 284 & 277 & 317 & 313 & 318 & 374 & 413 & 405 & 355 & 306 & 271 & 306\\\\\n\t1957 & 315 & 301 & 356 & 348 & 355 & 422 & 465 & 467 & 404 & 347 & 305 & 336\\\\\n\t1958 & 340 & 318 & 362 & 348 & 363 & 435 & 491 & 505 & 404 & 359 & 310 & 337\\\\\n\t1959 & 360 & 342 & 406 & 396 & 420 & 472 & 548 & 559 & 463 & 407 & 362 & 405\\\\\n\t1960 & 417 & 391 & 419 & 461 & 472 & 535 & 622 & 606 & 508 & 461 & 390 & 432\\\\\n\\end{tabular}\n",
            "text/plain": [
              "     Jan Feb Mar Apr May Jun Jul Aug Sep Oct Nov Dec\n",
              "1949 112 118 132 129 121 135 148 148 136 119 104 118\n",
              "1950 115 126 141 135 125 149 170 170 158 133 114 140\n",
              "1951 145 150 178 163 172 178 199 199 184 162 146 166\n",
              "1952 171 180 193 181 183 218 230 242 209 191 172 194\n",
              "1953 196 196 236 235 229 243 264 272 237 211 180 201\n",
              "1954 204 188 235 227 234 264 302 293 259 229 203 229\n",
              "1955 242 233 267 269 270 315 364 347 312 274 237 278\n",
              "1956 284 277 317 313 318 374 413 405 355 306 271 306\n",
              "1957 315 301 356 348 355 422 465 467 404 347 305 336\n",
              "1958 340 318 362 348 363 435 491 505 404 359 310 337\n",
              "1959 360 342 406 396 420 472 548 559 463 407 362 405\n",
              "1960 417 391 419 461 472 535 622 606 508 461 390 432"
            ]
          },
          "metadata": {}
        }
      ]
    },
    {
      "cell_type": "code",
      "source": [
        "# separete the features dataset[eruptions, waiting]\n",
        "eruptions_data = faithful$eruptions\n",
        "waiting_datas = faithful$waiting"
      ],
      "metadata": {
        "id": "msEKh0dJBZTA"
      },
      "execution_count": 11,
      "outputs": []
    },
    {
      "cell_type": "code",
      "source": [
        "# length of the vector\n",
        "eruptions_length = length(eruptions_data)\n",
        "cat(\"Length : \", eruptions_length)"
      ],
      "metadata": {
        "colab": {
          "base_uri": "https://localhost:8080/"
        },
        "id": "fZbHVjPPCYCp",
        "outputId": "e25f7f9e-ed91-4bfa-ead0-e8a870635c1c"
      },
      "execution_count": 80,
      "outputs": [
        {
          "output_type": "stream",
          "name": "stdout",
          "text": [
            "Length :  144"
          ]
        }
      ]
    },
    {
      "cell_type": "code",
      "execution_count": 81,
      "metadata": {
        "colab": {
          "base_uri": "https://localhost:8080/",
          "height": 86
        },
        "id": "yD1ntmKwBR3Z",
        "outputId": "d92dd7d8-e44a-460b-edc0-11d35fcd21b0"
      },
      "outputs": [
        {
          "output_type": "stream",
          "name": "stdout",
          "text": [
            "Summary : \n",
            " "
          ]
        },
        {
          "output_type": "display_data",
          "data": {
            "text/plain": [
              "   Min. 1st Qu.  Median    Mean 3rd Qu.    Max. \n",
              "  104.0   180.0   265.5   280.3   360.5   622.0 "
            ]
          },
          "metadata": {}
        }
      ],
      "source": [
        "# Summary\n",
        "cat(\"Summary : \\n \")\n",
        "summary(eruptions_data)"
      ]
    },
    {
      "cell_type": "code",
      "source": [
        "# range of classes\n",
        "eruptions_range = max(eruptions_data) - min(eruptions_data)\n",
        "cat(\"Range of data : \\n\", eruptions_range)"
      ],
      "metadata": {
        "colab": {
          "base_uri": "https://localhost:8080/"
        },
        "id": "JO9W13iEDnsA",
        "outputId": "637d684f-db4d-4a02-9d02-f5a70753cad4"
      },
      "execution_count": 82,
      "outputs": [
        {
          "output_type": "stream",
          "name": "stdout",
          "text": [
            "Range of data : \n",
            " 518"
          ]
        }
      ]
    },
    {
      "cell_type": "code",
      "source": [
        "# k -> number of classes\n",
        "eruptions_classes = 1+3.3 * log10(eruptions_length)\n",
        "cat(\"Classes : \\n\", eruptions_classes)\n"
      ],
      "metadata": {
        "colab": {
          "base_uri": "https://localhost:8080/"
        },
        "id": "x_-HSRx2EGIQ",
        "outputId": "e3b02c2e-cb6f-4c5e-9282-086ab8f012c6"
      },
      "execution_count": 83,
      "outputs": [
        {
          "output_type": "stream",
          "name": "stdout",
          "text": [
            "Classes : \n",
            " 8.122596"
          ]
        }
      ]
    },
    {
      "cell_type": "code",
      "source": [
        "# h -> width of the class\n",
        "eruptions_class_width = eruptions_range/eruptions_classes\n",
        "cat(\"Class width : \\n\", eruptions_class_width)"
      ],
      "metadata": {
        "colab": {
          "base_uri": "https://localhost:8080/"
        },
        "id": "Yy-1HKfNEe7F",
        "outputId": "d3058854-c495-4761-c312-46f923321d60"
      },
      "execution_count": 84,
      "outputs": [
        {
          "output_type": "stream",
          "name": "stdout",
          "text": [
            "Class width : \n",
            " 63.77271"
          ]
        }
      ]
    },
    {
      "cell_type": "code",
      "source": [
        "# data interval\n",
        "eruptions_interval = seq(min(eruptions_data), max(eruptions_data), by=64)\n",
        "cat(\"Class Interval : \\n\", eruptions_interval)"
      ],
      "metadata": {
        "colab": {
          "base_uri": "https://localhost:8080/"
        },
        "id": "pEiLxbq0E52U",
        "outputId": "7f63b154-71bc-45a1-fba2-150f95629811"
      },
      "execution_count": 86,
      "outputs": [
        {
          "output_type": "stream",
          "name": "stdout",
          "text": [
            "Class Interval : \n",
            " 104 168 232 296 360 424 488 552 616"
          ]
        }
      ]
    },
    {
      "cell_type": "code",
      "source": [
        "# classes of data\n",
        "eruptions_classes = cut(eruptions_data, eruptions_interval, right = FALSE)\n",
        "cat(\"Classes : \\n\", eruptions_classes)"
      ],
      "metadata": {
        "colab": {
          "base_uri": "https://localhost:8080/"
        },
        "id": "D69xC4g-FnJ_",
        "outputId": "1084da84-49f2-40e2-b671-738db06ce33e"
      },
      "execution_count": 87,
      "outputs": [
        {
          "output_type": "stream",
          "name": "stdout",
          "text": [
            "Classes : \n",
            " 1 1 1 1 1 1 1 1 1 1 1 1 1 1 1 1 1 1 2 2 1 1 1 1 1 1 2 1 2 2 2 2 2 1 1 1 2 2 2 2 2 2 2 3 2 2 2 2 2 2 3 3 2 3 3 3 3 2 2 2 2 2 3 2 3 3 4 3 3 2 2 2 3 3 3 3 3 4 5 4 4 3 3 3 3 3 4 4 4 5 5 5 4 4 3 4 4 4 4 4 4 5 6 6 5 4 4 4 4 4 5 4 5 6 7 7 5 4 4 4 5 4 5 5 5 6 7 8 6 5 5 5 5 5 5 6 6 7 NA 8 7 6 5 6"
          ]
        }
      ]
    },
    {
      "cell_type": "code",
      "source": [
        "eruptions_freq = table(eruptions_data)\n",
        "print(eruptions_freq)"
      ],
      "metadata": {
        "colab": {
          "base_uri": "https://localhost:8080/"
        },
        "id": "rZ9q8nJPF9Oq",
        "outputId": "242c282a-16fd-4389-a260-004f78243f5c"
      },
      "execution_count": 74,
      "outputs": [
        {
          "output_type": "stream",
          "name": "stdout",
          "text": [
            "eruptions_data\n",
            "104 112 114 115 118 119 121 125 126 129 132 133 135 136 140 141 145 146 148 149 \n",
            "  1   1   1   1   2   1   1   1   1   1   1   1   2   1   1   1   1   1   2   1 \n",
            "150 158 162 163 166 170 171 172 178 180 181 183 184 188 191 193 194 196 199 201 \n",
            "  1   1   1   1   1   2   1   2   2   2   1   1   1   1   1   1   1   2   2   1 \n",
            "203 204 209 211 218 227 229 230 233 234 235 236 237 242 243 259 264 267 269 270 \n",
            "  1   1   1   1   1   1   3   1   1   1   2   1   2   2   1   1   2   1   1   1 \n",
            "271 272 274 277 278 284 293 301 302 305 306 310 312 313 315 317 318 336 337 340 \n",
            "  1   1   1   1   1   1   1   1   1   1   2   1   1   1   2   1   2   1   1   1 \n",
            "342 347 348 355 356 359 360 362 363 364 374 390 391 396 404 405 406 407 413 417 \n",
            "  1   2   2   2   1   1   1   2   1   1   1   1   1   1   2   2   1   1   1   1 \n",
            "419 420 422 432 435 461 463 465 467 472 491 505 508 535 548 559 606 622 \n",
            "  1   1   1   1   1   2   1   1   1   2   1   1   1   1   1   1   1   1 \n"
          ]
        }
      ]
    },
    {
      "cell_type": "code",
      "source": [
        "cbind(eruptions_freq)"
      ],
      "metadata": {
        "id": "NlUytmHuGRT_"
      },
      "execution_count": null,
      "outputs": []
    },
    {
      "cell_type": "code",
      "source": [
        "barplot(eruptions_freq, xlab=\"interval\", ylab=\"Frequency\", main=\"Frequency Distribution\", col=\"purple\")"
      ],
      "metadata": {
        "colab": {
          "base_uri": "https://localhost:8080/",
          "height": 437
        },
        "id": "Ql3_LFsKGeKt",
        "outputId": "80aca685-a71a-449a-c90f-cd0e2816ceaa"
      },
      "execution_count": 76,
      "outputs": [
        {
          "output_type": "display_data",
          "data": {
            "text/plain": [
              "Plot with title “Frequency Distribution”"
            ],
            "image/png": "[encoded data removed]"
          },
          "metadata": {
            "image/png": {
              "width": 420,
              "height": 420
            }
          }
        }
      ]
    },
    {
      "cell_type": "code",
      "source": [],
      "metadata": {
        "id": "i0sbKFuDGyoc"
      },
      "execution_count": 77,
      "outputs": []
    }
  ]
}
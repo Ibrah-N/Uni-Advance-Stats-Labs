{
  "nbformat": 4,
  "nbformat_minor": 0,
  "metadata": {
    "colab": {
      "provenance": [],
      "mount_file_id": "14gZi6FY6He-U1uV8SHoGTuG7EHNvpPaj",
      "authorship_tag": "ABX9TyNVXkV+GdMi09ZrMryIpJxS",
      "include_colab_link": true
    },
    "kernelspec": {
      "name": "ir",
      "display_name": "R"
    },
    "language_info": {
      "name": "R"
    }
  },
  "cells": [
    {
      "cell_type": "markdown",
      "metadata": {
        "id": "view-in-github",
        "colab_type": "text"
      },
      "source": [
        "<a href=\"https://colab.research.google.com/github/Ibrah-N/Uni-Advance-Stats-Labs/blob/main/LAB_01.ipynb\" target=\"_parent\"><img src=\"https://colab.research.google.com/assets/colab-badge.svg\" alt=\"Open In Colab\"/></a>"
      ]
    },
    {
      "cell_type": "markdown",
      "source": [
        "# Lab Practice"
      ],
      "metadata": {
        "id": "yJLhufwSatEs"
      }
    },
    {
      "cell_type": "code",
      "execution_count": null,
      "metadata": {
        "id": "0SCKVeWWLb0l",
        "colab": {
          "base_uri": "https://localhost:8080/"
        },
        "outputId": "acb80c58-d6b3-42b4-e8c2-da984525159b"
      },
      "outputs": [
        {
          "output_type": "stream",
          "name": "stdout",
          "text": [
            "[1] \"Welcome to R programming for advance statistics\"\n"
          ]
        }
      ],
      "source": [
        "# Print function\n",
        "\n",
        "\n",
        "print(\"Welcome to R programming for advance statistics\")"
      ]
    },
    {
      "cell_type": "code",
      "source": [
        "# for loop in R\n",
        "\n",
        "\n",
        "for (x in 1:10) {\n",
        "  print(x)\n",
        "}"
      ],
      "metadata": {
        "colab": {
          "base_uri": "https://localhost:8080/"
        },
        "id": "8JLY6A1SMXvR",
        "outputId": "77f889c4-ad6b-4ed9-be5e-6bfbc402c47b"
      },
      "execution_count": null,
      "outputs": [
        {
          "output_type": "stream",
          "name": "stdout",
          "text": [
            "[1] 1\n",
            "[1] 2\n",
            "[1] 3\n",
            "[1] 4\n",
            "[1] 5\n",
            "[1] 6\n",
            "[1] 7\n",
            "[1] 8\n",
            "[1] 9\n",
            "[1] 10\n"
          ]
        }
      ]
    },
    {
      "cell_type": "code",
      "source": [
        "# creating variables in R\n",
        "\n",
        "id = 20\n",
        "name = \"Nab\"\n",
        "\n",
        "\n",
        "print(id)\n",
        "print(name)"
      ],
      "metadata": {
        "colab": {
          "base_uri": "https://localhost:8080/"
        },
        "id": "30k7-L4QMz2Q",
        "outputId": "5f101664-3961-4b42-f29a-f1f478772b1a"
      },
      "execution_count": null,
      "outputs": [
        {
          "output_type": "stream",
          "name": "stdout",
          "text": [
            "[1] 20\n",
            "[1] \"Nab\"\n"
          ]
        }
      ]
    },
    {
      "cell_type": "code",
      "source": [
        "# concatenate element with past method\n",
        "\n",
        "f_n = \"Nab \" # first name\n",
        "l_n = \"Jan\"  # last name\n",
        "\n",
        "\n",
        "f_n = paste(f_n, l_n) # full name\n",
        "print(f_n)"
      ],
      "metadata": {
        "colab": {
          "base_uri": "https://localhost:8080/"
        },
        "id": "rwYjNmy0NSIJ",
        "outputId": "20daa19e-9674-4365-fc25-d9e36e6cd2bd"
      },
      "execution_count": null,
      "outputs": [
        {
          "output_type": "stream",
          "name": "stdout",
          "text": [
            "[1] \"Nab  Jan\"\n"
          ]
        }
      ]
    },
    {
      "cell_type": "code",
      "source": [
        "# multiple variables initialization\n",
        "\n",
        "var1 = var2 = \"Nab\"\n",
        "\n",
        "cat(var1, var2)"
      ],
      "metadata": {
        "colab": {
          "base_uri": "https://localhost:8080/"
        },
        "id": "oVax-AKNNqV3",
        "outputId": "92bac241-49ef-4e72-e55f-d17a65aeff45"
      },
      "execution_count": null,
      "outputs": [
        {
          "output_type": "stream",
          "name": "stdout",
          "text": [
            "Nab Nab"
          ]
        }
      ]
    },
    {
      "cell_type": "code",
      "source": [
        "# addition\n",
        "num_1 = 10\n",
        "num_2 = 5\n",
        "\n",
        "\n",
        "print(num_1 + num_2)"
      ],
      "metadata": {
        "colab": {
          "base_uri": "https://localhost:8080/"
        },
        "id": "gKpKXaymOQFo",
        "outputId": "1bb108c9-5350-46ae-8191-4dac57e521de"
      },
      "execution_count": null,
      "outputs": [
        {
          "output_type": "stream",
          "name": "stdout",
          "text": [
            "[1] 15\n"
          ]
        }
      ]
    },
    {
      "cell_type": "code",
      "source": [
        "# subtraction\n",
        "num_1 = 10\n",
        "num_2 = 5\n",
        "\n",
        "\n",
        "print(num_1 - num_2)"
      ],
      "metadata": {
        "colab": {
          "base_uri": "https://localhost:8080/"
        },
        "id": "_xqk70iCOqEV",
        "outputId": "908622e8-1d1d-4c47-9f70-b9fd01228a46"
      },
      "execution_count": null,
      "outputs": [
        {
          "output_type": "stream",
          "name": "stdout",
          "text": [
            "[1] 5\n"
          ]
        }
      ]
    },
    {
      "cell_type": "code",
      "source": [
        "# multiplication\n",
        "num_1 = 10\n",
        "num_2 = 5\n",
        "\n",
        "\n",
        "print(num_1 * num_2)"
      ],
      "metadata": {
        "colab": {
          "base_uri": "https://localhost:8080/"
        },
        "id": "gEHLVgXRO4S0",
        "outputId": "25960231-0b98-4dc6-ee60-349486ecc95c"
      },
      "execution_count": null,
      "outputs": [
        {
          "output_type": "stream",
          "name": "stdout",
          "text": [
            "[1] 50\n"
          ]
        }
      ]
    },
    {
      "cell_type": "code",
      "source": [
        "# division\n",
        "num_1 = 10\n",
        "num_2 = 5\n",
        "\n",
        "\n",
        "print(num_1 / num_2)"
      ],
      "metadata": {
        "colab": {
          "base_uri": "https://localhost:8080/"
        },
        "id": "aPdwopR6O7Oj",
        "outputId": "9b190829-1c36-41ec-ce55-d89a5126db12"
      },
      "execution_count": null,
      "outputs": [
        {
          "output_type": "stream",
          "name": "stdout",
          "text": [
            "[1] 2\n"
          ]
        }
      ]
    },
    {
      "cell_type": "code",
      "source": [
        "# modules\n",
        "num_1 = 10\n",
        "num_2 = 5\n",
        "\n",
        "\n",
        "print(num_1 %% num_2)"
      ],
      "metadata": {
        "colab": {
          "base_uri": "https://localhost:8080/"
        },
        "id": "N08W5dNMO-YE",
        "outputId": "c6517a0f-2d0d-4aef-a1b1-a134433a28fc"
      },
      "execution_count": null,
      "outputs": [
        {
          "output_type": "stream",
          "name": "stdout",
          "text": [
            "[1] 0\n"
          ]
        }
      ]
    },
    {
      "cell_type": "code",
      "source": [
        "# Vectors Operations\n",
        "\n",
        "vec_1 = c(4, 8)\n",
        "vec_2 = c(2, 4)\n",
        "\n",
        "\n",
        "\n",
        "cat(\"addition \", vec_1 + vec_2, \"\\n\")\n",
        "cat(\"subtractin \", vec_1 - vec_2, \"\\n\")\n",
        "cat(\"multiplication \", vec_1 * vec_2, \"\\n\")\n",
        "cat(\"division \", vec_1 / vec_2, \"\\n\")\n",
        "cat(\"modulo \", vec_1 %% vec_2, \"\\n\")\n",
        "cat(\"exponent \", vec_1  ^ vec_2, \"\\n\")"
      ],
      "metadata": {
        "colab": {
          "base_uri": "https://localhost:8080/"
        },
        "id": "cYO7NU1HPEpQ",
        "outputId": "a36f6f74-fbe0-413c-b686-fe1bd77e8259"
      },
      "execution_count": null,
      "outputs": [
        {
          "output_type": "stream",
          "name": "stdout",
          "text": [
            "addition  6 12 \n",
            "subtractin  2 4 \n",
            "multiplication  8 32 \n",
            "division  2 2 \n",
            "modulo  0 0 \n",
            "exponent  16 4096 \n"
          ]
        }
      ]
    },
    {
      "cell_type": "code",
      "source": [
        "# Repation wit rep function\n",
        "# rep(x, times, each)\n",
        "\n",
        "\n",
        "rep_times = rep(x=5, times=3)\n",
        "rep_times_vec = rep(x=c(1, 2, 3), times=3)\n",
        "rep_times_vec_each = rep(x=c(1, 2, 3), times=3, each=2)\n",
        "\n",
        "\n",
        "cat(\"rep_times \",rep_times , \"\\n\")\n",
        "cat(\"rep_times_vec \",rep_times_vec , \"\\n\")\n",
        "cat(\"rep_times_vec_each \",rep_times_vec_each , \"\\n\")"
      ],
      "metadata": {
        "colab": {
          "base_uri": "https://localhost:8080/"
        },
        "id": "De1J6YSfPVOL",
        "outputId": "8fa43edc-e425-4c94-adb6-89d1aa964efc"
      },
      "execution_count": null,
      "outputs": [
        {
          "output_type": "stream",
          "name": "stdout",
          "text": [
            "rep_times  5 5 5 \n",
            "rep_times_vec  1 2 3 1 2 3 1 2 3 \n",
            "rep_times_vec_each  1 1 2 2 3 3 1 1 2 2 3 3 1 1 2 2 3 3 \n"
          ]
        }
      ]
    },
    {
      "cell_type": "code",
      "source": [
        "# storing vectors\n",
        "\n",
        "unsorted_vec = c(3, 2, 1, 4)\n",
        "\n",
        "sorted_d = sort(x=unsorted_vec, decreasing=TRUE)\n",
        "sorted_a = sort(x=unsorted_vec, decreasing=FALSE)\n",
        "\n",
        "\n",
        "cat(\"unsorted_vec \",unsorted_vec , \"\\n\")\n",
        "cat(\"sorted_d \",sorted_d , \"\\n\")\n",
        "cat(\"sorted_a \",sorted_a , \"\\n\")"
      ],
      "metadata": {
        "colab": {
          "base_uri": "https://localhost:8080/"
        },
        "id": "Avnv0QafQxUO",
        "outputId": "d0d016f8-e9c3-4bd8-e732-be4f86aff780"
      },
      "execution_count": null,
      "outputs": [
        {
          "output_type": "stream",
          "name": "stdout",
          "text": [
            "unsorted_vec  3 2 1 4 \n",
            "sorted_d  4 3 2 1 \n",
            "sorted_a  1 2 3 4 \n"
          ]
        }
      ]
    },
    {
      "cell_type": "code",
      "source": [
        "# Sequence\n",
        "\n",
        "\n",
        "seq_2_to_10 = seq(from=2, to=10, length.out=10)\n",
        "seq_2_to_2_by_2 = seq(from=2, to=10, by=2)\n",
        "\n",
        "\n",
        "cat(\"Sequence from 2 to 10 \",seq_2_to_10 ,\"\\n\")\n",
        "cat(\"Sequence from 2 to 10 by 2 \",seq_2_to_2_by_2 ,\"\\n\")"
      ],
      "metadata": {
        "id": "K2es2YXTRdaF",
        "outputId": "c52de11b-4132-4bbf-80ad-eec50597c3df",
        "colab": {
          "base_uri": "https://localhost:8080/"
        }
      },
      "execution_count": 3,
      "outputs": [
        {
          "output_type": "stream",
          "name": "stdout",
          "text": [
            "Sequence from 2 to 10  2 2.888889 3.777778 4.666667 5.555556 6.444444 7.333333 8.222222 9.111111 10 \n",
            "Sequence from 2 to 10 by 2  2 4 6 8 10 \n"
          ]
        }
      ]
    },
    {
      "cell_type": "markdown",
      "source": [
        "# Lab Tasks"
      ],
      "metadata": {
        "id": "2OyhMQCmarM1"
      }
    },
    {
      "cell_type": "markdown",
      "source": [
        "## Question - 1"
      ],
      "metadata": {
        "id": "fc9Hr0V1a_8L"
      }
    },
    {
      "cell_type": "code",
      "source": [
        "# a\n",
        "# verify that (6a+42) / (3 ^(4.2-3.62)) = 29.50556  when a = 2.3\n",
        "\n",
        "\n",
        "a = 2.3\n",
        "\n",
        "\n",
        "equ = (6*a+42) / (3 ^(4.2-3.62))\n",
        "\n",
        "\n",
        "cat(\"Solution of Equation : (6a+42) / (3 ^(4.2-3.62)) is : \", equ, \"/n\")"
      ],
      "metadata": {
        "id": "1aqxAnF8aSKN",
        "outputId": "698408bb-f65b-4950-c8e4-af07e2236ba8",
        "colab": {
          "base_uri": "https://localhost:8080/"
        }
      },
      "execution_count": 6,
      "outputs": [
        {
          "output_type": "stream",
          "name": "stdout",
          "text": [
            "Solution of Equation : (6a+42) / (3 ^(4.2-3.62)) is :  29.50556 /n"
          ]
        }
      ]
    },
    {
      "cell_type": "code",
      "source": [
        "# b\n",
        "\n",
        "print((-4)^2 + 2) # this statment is correct\n",
        "print(-4^2 + 2)"
      ],
      "metadata": {
        "id": "1n-DTx5Ya-mp",
        "outputId": "1ae35014-ff6f-46a6-cc3e-7c01fd300f96",
        "colab": {
          "base_uri": "https://localhost:8080/"
        }
      },
      "execution_count": 9,
      "outputs": [
        {
          "output_type": "stream",
          "name": "stdout",
          "text": [
            "[1] 18\n",
            "[1] -14\n"
          ]
        }
      ]
    },
    {
      "cell_type": "code",
      "source": [
        "# c\n",
        "\n",
        "vec = c(25.2, 15, 16.44, 15.3, 18.6)\n",
        "\n",
        "mean_vec = mean(vec) / 2\n",
        "\n",
        "sqr_mean_vec = sqrt(mean_vec)\n",
        "\n",
        "\n",
        "cat(\"Square root of half of mean of vecter is : \", sqr_mean_vec, \"\\n\")"
      ],
      "metadata": {
        "id": "u6j1dPV-a-kA",
        "outputId": "52e4386e-ca76-4acf-9e09-8def3b633d52",
        "colab": {
          "base_uri": "https://localhost:8080/"
        }
      },
      "execution_count": 11,
      "outputs": [
        {
          "output_type": "stream",
          "name": "stdout",
          "text": [
            "Square root of half of mean of vecter is :  3.008987 \n"
          ]
        }
      ]
    },
    {
      "cell_type": "code",
      "source": [
        "# d\n",
        "\n",
        "log_of = log(3.0)\n",
        "cat(\"Log of e is \", log_of)"
      ],
      "metadata": {
        "id": "hPr-eDXscdkh",
        "outputId": "6938ccc2-7d80-4691-c010-d12b3508b963",
        "colab": {
          "base_uri": "https://localhost:8080/"
        }
      },
      "execution_count": 13,
      "outputs": [
        {
          "output_type": "stream",
          "name": "stdout",
          "text": [
            "Log of e is  1.098612"
          ]
        }
      ]
    },
    {
      "cell_type": "markdown",
      "source": [
        "## Question - 2"
      ],
      "metadata": {
        "id": "tiKN7vKwdX5q"
      }
    },
    {
      "cell_type": "code",
      "source": [
        "# a\n",
        "\n",
        "\n",
        "a_q_2 = ((3^2) * (4 ^(1/8)))\n",
        "print(a_q_2)"
      ],
      "metadata": {
        "id": "A8m16aFLdQ1n",
        "outputId": "ed5592a7-d0db-4fcb-c144-9d3c76ad4a32",
        "colab": {
          "base_uri": "https://localhost:8080/"
        }
      },
      "execution_count": 15,
      "outputs": [
        {
          "output_type": "stream",
          "name": "stdout",
          "text": [
            "[1] 10.70286\n"
          ]
        }
      ]
    },
    {
      "cell_type": "code",
      "source": [
        "# b\n",
        "\n",
        "a_q_2_divid_2 = a_q_2 / 2.33\n",
        "print(a_q_2_divid_2)"
      ],
      "metadata": {
        "id": "OpRRxlTZdps9",
        "outputId": "2c109138-0709-4a83-96db-ccd9ed36db30",
        "colab": {
          "base_uri": "https://localhost:8080/"
        }
      },
      "execution_count": 16,
      "outputs": [
        {
          "output_type": "stream",
          "name": "stdout",
          "text": [
            "[1] 4.593504\n"
          ]
        }
      ]
    },
    {
      "cell_type": "code",
      "source": [
        "# c\n",
        "\n",
        "\n",
        "c_q_2 = ((-8) * (10^(-13)))\n",
        "print(c_q_2)"
      ],
      "metadata": {
        "id": "MkbVPA1qeID7",
        "outputId": "e80bba19-8d99-4ed3-d857-5d95b42fc421",
        "colab": {
          "base_uri": "https://localhost:8080/"
        }
      },
      "execution_count": 17,
      "outputs": [
        {
          "output_type": "stream",
          "name": "stdout",
          "text": [
            "[1] -8e-13\n"
          ]
        }
      ]
    },
    {
      "cell_type": "markdown",
      "source": [
        "## Question - 3"
      ],
      "metadata": {
        "id": "jDqzig_jealZ"
      }
    },
    {
      "cell_type": "code",
      "source": [
        "# a\n",
        "\n",
        "seq_5_n11_by_3 = seq(from=5, to=11, by=0.3)\n",
        "print(seq_5_n11_by_3)"
      ],
      "metadata": {
        "id": "WpPhwatMeXo8",
        "outputId": "d04bb76b-5420-457f-a0a9-e49391369455",
        "colab": {
          "base_uri": "https://localhost:8080/"
        }
      },
      "execution_count": 18,
      "outputs": [
        {
          "output_type": "stream",
          "name": "stdout",
          "text": [
            " [1]  5.0  5.3  5.6  5.9  6.2  6.5  6.8  7.1  7.4  7.7  8.0  8.3  8.6  8.9  9.2\n",
            "[16]  9.5  9.8 10.1 10.4 10.7 11.0\n"
          ]
        }
      ]
    },
    {
      "cell_type": "code",
      "source": [
        "# b\n",
        "\n",
        "seq_a_reversed = sort(x=seq_5_n11_by_3, decreasing=TRUE)\n",
        "cat(\"Reversed order \",  seq_a_reversed)"
      ],
      "metadata": {
        "id": "rgxtC0C8erb9",
        "outputId": "43fc5ebb-1d3e-4e6e-e9db-f6245d9e088b",
        "colab": {
          "base_uri": "https://localhost:8080/"
        }
      },
      "execution_count": 19,
      "outputs": [
        {
          "output_type": "stream",
          "name": "stdout",
          "text": [
            "Reversed order  11 10.7 10.4 10.1 9.8 9.5 9.2 8.9 8.6 8.3 8 7.7 7.4 7.1 6.8 6.5 6.2 5.9 5.6 5.3 5"
          ]
        }
      ]
    },
    {
      "cell_type": "code",
      "source": [
        "# c\n",
        "\n",
        "vec = c(-1, 3, -5, 7, -9)\n",
        "repet_vec = rep(x=vec, times=2, each=10)\n",
        "\n",
        "cat(\"Vector \",vec , \"\\n\")\n",
        "cat(\"Repeated Vector \",repet_vec , \"\\n\")"
      ],
      "metadata": {
        "id": "S3EFcPn4fBnj",
        "outputId": "db0c8951-35fe-4e6e-d71e-1a2e3e9bff25",
        "colab": {
          "base_uri": "https://localhost:8080/"
        }
      },
      "execution_count": 21,
      "outputs": [
        {
          "output_type": "stream",
          "name": "stdout",
          "text": [
            "Vector  -1 3 -5 7 -9 \n",
            "Repeated Vector  -1 -1 -1 -1 -1 -1 -1 -1 -1 -1 3 3 3 3 3 3 3 3 3 3 -5 -5 -5 -5 -5 -5 -5 -5 -5 -5 7 7 7 7 7 7 7 7 7 7 -9 -9 -9 -9 -9 -9 -9 -9 -9 -9 -1 -1 -1 -1 -1 -1 -1 -1 -1 -1 3 3 3 3 3 3 3 3 3 3 -5 -5 -5 -5 -5 -5 -5 -5 -5 -5 7 7 7 7 7 7 7 7 7 7 -9 -9 -9 -9 -9 -9 -9 -9 -9 -9 \n",
            "Decending Order  -9 -9 -9 -9 -9 -9 -9 -9 -9 -9 -9 -9 -9 -9 -9 -9 -9 -9 -9 -9 -5 -5 -5 -5 -5 -5 -5 -5 -5 -5 -5 -5 -5 -5 -5 -5 -5 -5 -5 -5 -1 -1 -1 -1 -1 -1 -1 -1 -1 -1 -1 -1 -1 -1 -1 -1 -1 -1 -1 -1 3 3 3 3 3 3 3 3 3 3 3 3 3 3 3 3 3 3 3 3 7 7 7 7 7 7 7 7 7 7 7 7 7 7 7 7 7 7 7 7 \n"
          ]
        }
      ]
    },
    {
      "cell_type": "code",
      "source": [],
      "metadata": {
        "id": "uJNg-UDTfpXq"
      },
      "execution_count": null,
      "outputs": []
    }
  ]
}